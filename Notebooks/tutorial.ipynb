{
 "cells": [
  {
   "cell_type": "code",
   "execution_count": 1,
   "metadata": {},
   "outputs": [
    {
     "name": "stderr",
     "output_type": "stream",
     "text": [
      "Using TensorFlow backend.\n"
     ]
    }
   ],
   "source": [
    "random_seed=7\n",
    "from numpy.random import seed\n",
    "seed(random_seed)\n",
    "from tensorflow import set_random_seed\n",
    "set_random_seed(random_seed)\n",
    "import numpy as np\n",
    "from IPython.display import clear_output\n",
    "import sys\n",
    "sys.path.append('../exploringActivations/')\n",
    "from data import Datasets\n",
    "from activation_functions import CustomActivation\n",
    "from models import CNN,DNN"
   ]
  },
  {
   "cell_type": "code",
   "execution_count": 2,
   "metadata": {},
   "outputs": [],
   "source": [
    "import tensorflow as tf\n",
    "from tensorflow import keras\n",
    "from tensorflow.keras.models import Sequential\n",
    "from tensorflow.keras.layers import Dense, Dropout, Flatten\n",
    "from tensorflow.keras.layers import Conv2D, MaxPooling2D\n",
    "from tensorflow.keras import optimizers\n",
    "import pandas as pd\n",
    "from tensorflow.keras import backend as K\n",
    "import math\n",
    "import matplotlib.pyplot as plt\n",
    "import os\n",
    "from tensorflow.keras.datasets import mnist\n",
    "from tensorflow.keras.layers import Activation\n",
    "from keras.utils.generic_utils import get_custom_objects\n",
    "from keras.activations import sigmoid, selu"
   ]
  },
  {
   "cell_type": "code",
   "execution_count": null,
   "metadata": {},
   "outputs": [],
   "source": [
    "from tensorflow.python.client import device_lib\n",
    "print(device_lib.list_local_devices())"
   ]
  },
  {
   "cell_type": "code",
   "execution_count": null,
   "metadata": {},
   "outputs": [],
   "source": [
    "act=CustomActivation"
   ]
  },
  {
   "cell_type": "code",
   "execution_count": 27,
   "metadata": {},
   "outputs": [
    {
     "data": {
      "text/plain": [
       "1.1741593"
      ]
     },
     "execution_count": 27,
     "metadata": {},
     "output_type": "execute_result"
    }
   ],
   "source": [
    "#testing GELU\n",
    "tf.Session().run(tf.abs(act.Gelu(1.3)))"
   ]
  },
  {
   "cell_type": "code",
   "execution_count": 4,
   "metadata": {},
   "outputs": [
    {
     "name": "stdout",
     "output_type": "stream",
     "text": [
      "(28, 28, 1)\n",
      "(60000, 28, 28, 1)\n",
      "(10000, 28, 28, 1)\n",
      "(10000, 10)\n",
      "(60000, 10)\n",
      "WARNING:tensorflow:From ../exploringActivations\\activation_functions.py:34: Normal.__init__ (from tensorflow.python.ops.distributions.normal) is deprecated and will be removed after 2019-01-01.\n",
      "Instructions for updating:\n",
      "The TensorFlow Distributions library has moved to TensorFlow Probability (https://github.com/tensorflow/probability). You should update all references to use `tfp.distributions` instead of `tf.distributions`.\n",
      "WARNING:tensorflow:From C:\\Users\\Jayant\\Anaconda3\\envs\\kerasNN\\lib\\site-packages\\tensorflow\\python\\ops\\distributions\\normal.py:160: Distribution.__init__ (from tensorflow.python.ops.distributions.distribution) is deprecated and will be removed after 2019-01-01.\n",
      "Instructions for updating:\n",
      "The TensorFlow Distributions library has moved to TensorFlow Probability (https://github.com/tensorflow/probability). You should update all references to use `tfp.distributions` instead of `tf.distributions`.\n",
      "Train on 60000 samples, validate on 10000 samples\n",
      "Epoch 1/12\n",
      "60000/60000 [==============================] - 71s 1ms/sample - loss: 6.2058 - acc: 0.3896 - val_loss: 4.3877 - val_acc: 0.4869\n",
      "Epoch 2/12\n",
      "60000/60000 [==============================] - 70s 1ms/sample - loss: 6.0733 - acc: 0.3850 - val_loss: 9.2619 - val_acc: 0.3188\n",
      "Epoch 3/12\n",
      "60000/60000 [==============================] - 70s 1ms/sample - loss: 6.9749 - acc: 0.3488 - val_loss: 7.0964 - val_acc: 0.3704\n",
      "Epoch 4/12\n",
      "60000/60000 [==============================] - 70s 1ms/sample - loss: 5.8650 - acc: 0.3957 - val_loss: 7.3233 - val_acc: 0.4270\n",
      "Epoch 5/12\n",
      "60000/60000 [==============================] - 70s 1ms/sample - loss: 5.1363 - acc: 0.4137 - val_loss: 4.2182 - val_acc: 0.4930\n",
      "Epoch 6/12\n",
      "60000/60000 [==============================] - 70s 1ms/sample - loss: 5.7184 - acc: 0.3877 - val_loss: 6.1240 - val_acc: 0.3327\n",
      "Epoch 7/12\n",
      "60000/60000 [==============================] - 70s 1ms/sample - loss: 5.7408 - acc: 0.3980 - val_loss: 5.9225 - val_acc: 0.4893\n",
      "Epoch 8/12\n",
      "60000/60000 [==============================] - 70s 1ms/sample - loss: 5.1854 - acc: 0.4565 - val_loss: 5.6924 - val_acc: 0.3652\n",
      "Epoch 9/12\n",
      "60000/60000 [==============================] - 70s 1ms/sample - loss: 5.7366 - acc: 0.4150 - val_loss: 4.7111 - val_acc: 0.4493\n",
      "Epoch 10/12\n",
      "60000/60000 [==============================] - 70s 1ms/sample - loss: 5.7837 - acc: 0.3735 - val_loss: 11.0088 - val_acc: 0.3735\n",
      "Epoch 11/12\n",
      "60000/60000 [==============================] - 70s 1ms/sample - loss: 5.8838 - acc: 0.3703 - val_loss: 9.8431 - val_acc: 0.3927\n",
      "Epoch 12/12\n",
      "60000/60000 [==============================] - 70s 1ms/sample - loss: 5.9153 - acc: 0.3580 - val_loss: 6.1770 - val_acc: 0.4298\n"
     ]
    },
    {
     "data": {
      "text/plain": [
       "[6.177041234588623, 0.4298]"
      ]
     },
     "execution_count": 4,
     "metadata": {},
     "output_type": "execute_result"
    }
   ],
   "source": [
    "dataset=Datasets()\n",
    "x_train,x_test,y_train,y_test=dataset.get_fashion_mnist(\"CNN\")\n",
    "num_classes=dataset.num_classes\n",
    "input_shape=dataset.input_shape\n",
    "print(input_shape)\n",
    "print(x_train.shape)\n",
    "print(x_test.shape)\n",
    "print(y_test.shape)\n",
    "print(y_train.shape)\n",
    "dnn = CNN(\"gelu\")\n",
    "dnn.run_model(input_shape, x_train, x_test, y_train, y_test)"
   ]
  },
  {
   "cell_type": "code",
   "execution_count": null,
   "metadata": {},
   "outputs": [],
   "source": [
    "#got 92% for selu..on fashion\n",
    "#got 49% for swish on fashion"
   ]
  }
 ],
 "metadata": {
  "kernelspec": {
   "display_name": "Python 3",
   "language": "python",
   "name": "python3"
  },
  "language_info": {
   "codemirror_mode": {
    "name": "ipython",
    "version": 3
   },
   "file_extension": ".py",
   "mimetype": "text/x-python",
   "name": "python",
   "nbconvert_exporter": "python",
   "pygments_lexer": "ipython3",
   "version": "3.6.8"
  }
 },
 "nbformat": 4,
 "nbformat_minor": 2
}
