{
 "cells": [
  {
   "cell_type": "markdown",
   "metadata": {},
   "source": [
    "## To do \n",
    "1. Do EDA with MNIST and Fashion MNIST\n",
    "2. make normalize method separately\n",
    "3. Do 3 more techniques of preprocessing \n",
    "4. Get plots for preprocessing\n",
    "5. Get plots for comparisons between activation function for both datasets\n",
    "5. theory about how to design and choose activations pondering\n",
    "6. One self created activation function / just for fun / get"
   ]
  },
  {
   "cell_type": "code",
   "execution_count": 18,
   "metadata": {},
   "outputs": [],
   "source": [
    "random_seed=7\n",
    "from numpy.random import seed\n",
    "seed(random_seed)\n",
    "from tensorflow import set_random_seed\n",
    "set_random_seed(random_seed)\n",
    "import numpy as np\n",
    "from IPython.display import clear_output\n",
    "import sys\n",
    "sys.path.append('../exploringActivations/')\n",
    "from data import Datasets\n",
    "from activation_functions import CustomActivation\n",
    "from models import CNN,DNN,CAE\n",
    "import matplotlib.pyplot as plt\n",
    "import scipy as sci\n",
    "from keras.datasets import mnist\n",
    "from keras.datasets import fashion_mnist"
   ]
  },
  {
   "cell_type": "code",
   "execution_count": 2,
   "metadata": {},
   "outputs": [],
   "source": [
    "import tensorflow as tf\n",
    "from tensorflow import keras\n",
    "from tensorflow.keras.models import Sequential\n",
    "from tensorflow.keras.layers import Dense, Dropout, Flatten\n",
    "from tensorflow.keras.layers import Conv2D, MaxPooling2D\n",
    "from tensorflow.keras import optimizers\n",
    "import pandas as pd\n",
    "from tensorflow.keras import backend as K\n",
    "import math\n",
    "import matplotlib.pyplot as plt\n",
    "import os\n",
    "from tensorflow.keras.datasets import mnist\n",
    "from tensorflow.keras.layers import Activation\n",
    "from keras.utils.generic_utils import get_custom_objects\n",
    "from keras.activations import sigmoid, selu"
   ]
  },
  {
   "cell_type": "code",
   "execution_count": 3,
   "metadata": {},
   "outputs": [],
   "source": [
    "# from tensorflow.python.client import device_lib\n",
    "# print(device_lib.list_local_devices())"
   ]
  },
  {
   "cell_type": "code",
   "execution_count": 5,
   "metadata": {},
   "outputs": [],
   "source": [
    "act=CustomActivation()"
   ]
  },
  {
   "cell_type": "code",
   "execution_count": null,
   "metadata": {},
   "outputs": [],
   "source": [
    "#testing for DNN\n",
    "dataset=Datasets()\n",
    "x_train,x_test,y_train,y_test=dataset.get_mnist(\"DNN\")\n",
    "num_classes=dataset.num_classes\n",
    "input_shape=dataset.input_shape\n",
    "print(input_shape)\n",
    "print(x_train.shape)\n",
    "print(x_test.shape)\n",
    "print(y_test.shape)\n",
    "print(y_train.shape)\n",
    "dnn = DNN(\"swish\")\n",
    "score,history = dnn.run_model(input_shape, x_train, x_test, y_train, y_test,5)"
   ]
  },
  {
   "cell_type": "code",
   "execution_count": null,
   "metadata": {},
   "outputs": [],
   "source": [
    "#testing for Convoluted Auto encoders\n",
    "dataset=Datasets()\n",
    "x_train,x_test,y_train,y_test=dataset.get_mnist(\"CNN\")\n",
    "num_classes=dataset.num_classes\n",
    "input_shape=dataset.input_shape\n",
    "print(input_shape)\n",
    "print(x_train.shape)\n",
    "print(x_test.shape)\n",
    "print(y_test.shape)\n",
    "print(y_train.shape)\n",
    "dnn = CAE(\"swish\")\n",
    "score,history = dnn.run_model(input_shape, x_train, x_test, y_train, y_test)"
   ]
  },
  {
   "cell_type": "code",
   "execution_count": null,
   "metadata": {},
   "outputs": [],
   "source": [
    "#testing for CNN\n",
    "dataset=Datasets()\n",
    "x_train,x_test,y_train,y_test=dataset.get_fashion_mnist(\"CNN\")\n",
    "num_classes=dataset.num_classes\n",
    "input_shape=dataset.input_shape\n",
    "# x_train=dataset.edge_detection(x_train)\n",
    "# x_test=dataset.edge_detection(x_test)\n",
    "print(input_shape)\n",
    "print(x_train.shape)\n",
    "print(x_test.shape)\n",
    "print(y_test.shape)\n",
    "print(y_train.shape)\n",
    "cnn = CNN(\"gelu\")\n",
    "model,history=cnn.run_model(input_shape, x_train, x_test, y_train, y_test)"
   ]
  },
  {
   "cell_type": "code",
   "execution_count": null,
   "metadata": {},
   "outputs": [],
   "source": [
    "def plot_model(history):\n",
    "    plt.plot(history.history['acc'])\n",
    "    plt.plot(history.history['val_acc'])\n",
    "    plt.title('SWISH-ANN 5 hidden layer model accuracy')\n",
    "    plt.ylabel('accuracy')\n",
    "    plt.xlabel('epoch')\n",
    "    plt.legend(['training', 'validation'], loc='best')\n",
    "    #fig= plt.figure()\n",
    "    plt.savefig('../results/swish_ann_five_layer.png')\n",
    "    plt.show()\n",
    "plot_model(history)"
   ]
  },
  {
   "cell_type": "markdown",
   "metadata": {},
   "source": [
    "# EDA "
   ]
  },
  {
   "cell_type": "code",
   "execution_count": null,
   "metadata": {},
   "outputs": [],
   "source": [
    "dataset=Datasets()\n",
    "x_train,x_test,y_train,y_test=dataset.get_fashion_mnist(\"CNN\")\n",
    "num_classes=dataset.num_classes\n",
    "input_shape=dataset.input_shape\n",
    "# x_train=dataset.edge_detection(x_train)\n",
    "# x_test=dataset.edge_detection(x_test)\n",
    "print(input_shape)\n",
    "print(x_train.shape)\n",
    "print(x_test.shape)\n",
    "print(y_test.shape)\n",
    "print(y_train.shape)\n",
    "unique_elements, counts_elements = np.unique(y_train, return_counts=True)\n",
    "print(unique_elements)\n",
    "print(counts_elements)\n"
   ]
  },
  {
   "cell_type": "code",
   "execution_count": 11,
   "metadata": {},
   "outputs": [
    {
     "data": {
      "text/plain": [
       "(28, 28, 1)"
      ]
     },
     "execution_count": 11,
     "metadata": {},
     "output_type": "execute_result"
    }
   ],
   "source": [
    "x_train[0].shape"
   ]
  },
  {
   "cell_type": "code",
   "execution_count": 31,
   "metadata": {},
   "outputs": [
    {
     "data": {
      "image/png": "[encoded data removed]",
      "text/plain": [
       "<Figure size 432x288 with 1 Axes>"
      ]
     },
     "metadata": {
      "needs_background": "light"
     },
     "output_type": "display_data"
    }
   ],
   "source": [
    "x_geo=dataset.filtering(x_train[1,:,:,0])\n",
    "plt.imshow(x_geo)\n",
    "plt.savefig('../results/filtered_images.png')"
   ]
  },
  {
   "cell_type": "code",
   "execution_count": 33,
   "metadata": {},
   "outputs": [
    {
     "data": {
      "image/png": "[encoded data removed]",
      "text/plain": [
       "<Figure size 432x288 with 1 Axes>"
      ]
     },
     "metadata": {
      "needs_background": "light"
     },
     "output_type": "display_data"
    }
   ],
   "source": [
    "plt.imshow(x_train[1,:,:,0])\n",
    "plt.savefig('../results/normal_images.png')"
   ]
  },
  {
   "cell_type": "code",
   "execution_count": 34,
   "metadata": {},
   "outputs": [
    {
     "data": {
      "image/png": "[encoded data removed]",
      "text/plain": [
       "<Figure size 432x288 with 1 Axes>"
      ]
     },
     "metadata": {
      "needs_background": "light"
     },
     "output_type": "display_data"
    }
   ],
   "source": [
    "x_den=dataset.denoising(x_train[1,:,:,0])\n",
    "plt.imshow(x_den)\n",
    "plt.savefig('../results/denoised_images.png')"
   ]
  },
  {
   "cell_type": "code",
   "execution_count": 35,
   "metadata": {},
   "outputs": [
    {
     "data": {
      "image/png": "[encoded data removed]",
      "text/plain": [
       "<Figure size 432x288 with 1 Axes>"
      ]
     },
     "metadata": {
      "needs_background": "light"
     },
     "output_type": "display_data"
    }
   ],
   "source": [
    "x_ed=dataset.edge_detection(x_train[1,:,:,0])\n",
    "plt.imshow(x_ed)\n",
    "plt.savefig('../results/edge_images.png')"
   ]
  },
  {
   "cell_type": "code",
   "execution_count": null,
   "metadata": {},
   "outputs": [],
   "source": []
  }
 ],
 "metadata": {
  "kernelspec": {
   "display_name": "Python 3",
   "language": "python",
   "name": "python3"
  },
  "language_info": {
   "codemirror_mode": {
    "name": "ipython",
    "version": 3
   },
   "file_extension": ".py",
   "mimetype": "text/x-python",
   "name": "python",
   "nbconvert_exporter": "python",
   "pygments_lexer": "ipython3",
   "version": "3.6.8"
  }
 },
 "nbformat": 4,
 "nbformat_minor": 2
}
